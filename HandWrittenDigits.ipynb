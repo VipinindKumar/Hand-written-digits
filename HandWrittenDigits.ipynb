{
  "cells": [
    {
      "metadata": {
        "colab": {
          "autoexec": {
            "startup": false,
            "wait_interval": 0
          },
          "height": 34,
          "base_uri": "https://localhost:8080/"
        },
        "colab_type": "code",
        "id": "JwzykU9BFZ0G",
        "executionInfo": {
          "timestamp": 1526442237010,
          "status": "ok",
          "user": {
            "displayName": "Vipin K",
            "userId": "118322682239424137342",
            "photoUrl": "//lh6.googleusercontent.com/-V17A1o7SS-8/AAAAAAAAAAI/AAAAAAAAAJA/TWg5riTgw9E/s50-c-k-no/photo.jpg"
          },
          "elapsed": 8466,
          "user_tz": -330
        },
        "_uuid": "be48f59333400816f9aba4de94f9edc49595d6a1",
        "_cell_guid": "39fc9fcf-3538-4a5e-883a-17e74e7049fe",
        "outputId": "c2fbb265-08aa-4ef4-96b5-4c654ebd6f1f",
        "trusted": true
      },
      "cell_type": "code",
      "source": "import numpy as np\nfrom keras.layers import Input, Dense, BatchNormalization, Flatten, Conv2D\nfrom keras.layers import MaxPooling2D, Dropout, Activation\nfrom keras.models import Model\nfrom keras.preprocessing.image import ImageDataGenerator\nfrom keras.callbacks import ReduceLROnPlateau\nfrom keras import regularizers\n\nimport keras.backend as K\nK.set_image_data_format('channels_last')",
      "execution_count": 1,
      "outputs": [
        {
          "output_type": "stream",
          "text": "/opt/conda/lib/python3.6/site-packages/h5py/__init__.py:36: FutureWarning: Conversion of the second argument of issubdtype from `float` to `np.floating` is deprecated. In future, it will be treated as `np.float64 == np.dtype(float).type`.\n  from ._conv import register_converters as _register_converters\nUsing TensorFlow backend.\n",
          "name": "stderr"
        }
      ]
    },
    {
      "metadata": {
        "colab": {
          "autoexec": {
            "startup": false,
            "wait_interval": 0
          }
        },
        "colab_type": "code",
        "id": "nDbvZnl2uc8t",
        "collapsed": true,
        "_uuid": "71294c7d2cae30125ba2deacb7723d0290fff0de",
        "_cell_guid": "26c5954d-e203-4e3a-9225-be64f46d5f9c",
        "trusted": true
      },
      "cell_type": "code",
      "source": "from sklearn.model_selection import train_test_split\nfrom sklearn.preprocessing import LabelBinarizer\n\nimport matplotlib.pyplot as plt",
      "execution_count": 2,
      "outputs": []
    },
    {
      "metadata": {
        "colab_type": "text",
        "id": "VliO4ZKOS8K-",
        "_cell_guid": "e6c6c984-fd01-4c01-b180-3f176d87d3f2",
        "_uuid": "14abab8117bdf5d713bbb68cd0ba5a1c4f66a514"
      },
      "cell_type": "markdown",
      "source": "# load data"
    },
    {
      "metadata": {
        "colab": {
          "autoexec": {
            "startup": false,
            "wait_interval": 0
          },
          "height": 34,
          "base_uri": "https://localhost:8080/"
        },
        "colab_type": "code",
        "id": "OVlNwmAHkqlQ",
        "executionInfo": {
          "timestamp": 1526442278153,
          "status": "ok",
          "user": {
            "displayName": "Vipin K",
            "userId": "118322682239424137342",
            "photoUrl": "//lh6.googleusercontent.com/-V17A1o7SS-8/AAAAAAAAAAI/AAAAAAAAAJA/TWg5riTgw9E/s50-c-k-no/photo.jpg"
          },
          "elapsed": 34277,
          "user_tz": -330
        },
        "_uuid": "12c84803174f54afacafce9372b78d8fa21538da",
        "_cell_guid": "5efc2e1e-6925-4f51-b66c-cedd061884e2",
        "outputId": "c84e9006-92b3-4510-b19d-1ec76152107c",
        "trusted": true
      },
      "cell_type": "code",
      "source": "data = np.genfromtxt('../input/train.csv', delimiter=\",\")\ndata.shape",
      "execution_count": 3,
      "outputs": [
        {
          "output_type": "execute_result",
          "execution_count": 3,
          "data": {
            "text/plain": "(42001, 785)"
          },
          "metadata": {}
        }
      ]
    },
    {
      "metadata": {
        "colab": {
          "autoexec": {
            "startup": false,
            "wait_interval": 0
          },
          "height": 34,
          "base_uri": "https://localhost:8080/"
        },
        "colab_type": "code",
        "id": "7h9XzSoAstol",
        "executionInfo": {
          "timestamp": 1526444720897,
          "status": "ok",
          "user": {
            "displayName": "Vipin K",
            "userId": "118322682239424137342",
            "photoUrl": "//lh6.googleusercontent.com/-V17A1o7SS-8/AAAAAAAAAAI/AAAAAAAAAJA/TWg5riTgw9E/s50-c-k-no/photo.jpg"
          },
          "elapsed": 777,
          "user_tz": -330
        },
        "_uuid": "ecfc5e9041208f6a56087b977275bdbcd5279601",
        "_cell_guid": "fa38c5d1-7edf-46c4-a6ca-1507cc481bea",
        "outputId": "107da40c-8893-4111-f00a-005b2ea468d2",
        "trusted": true
      },
      "cell_type": "code",
      "source": "# scale pixels values, by /255\nX = data[1:, 1:].reshape((-1, 28, 28, 1))\nX /= 255\n\nX.shape",
      "execution_count": 4,
      "outputs": [
        {
          "output_type": "execute_result",
          "execution_count": 4,
          "data": {
            "text/plain": "(42000, 28, 28, 1)"
          },
          "metadata": {}
        }
      ]
    },
    {
      "metadata": {
        "colab": {
          "autoexec": {
            "startup": false,
            "wait_interval": 0
          },
          "height": 136,
          "base_uri": "https://localhost:8080/"
        },
        "colab_type": "code",
        "id": "m_c1_N0AtDcN",
        "executionInfo": {
          "timestamp": 1526444677104,
          "status": "ok",
          "user": {
            "displayName": "Vipin K",
            "userId": "118322682239424137342",
            "photoUrl": "//lh6.googleusercontent.com/-V17A1o7SS-8/AAAAAAAAAAI/AAAAAAAAAJA/TWg5riTgw9E/s50-c-k-no/photo.jpg"
          },
          "elapsed": 790,
          "user_tz": -330
        },
        "_uuid": "785fa085ff108efa6ff0cf00ee4bcadccd25e804",
        "_cell_guid": "d68174a8-aade-4b79-b8f8-edb0434b0ab7",
        "outputId": "a79a7212-0a41-414e-b558-bf8045302e62",
        "trusted": true
      },
      "cell_type": "code",
      "source": "# add one hot encoding\ny = data[1:, 0]\n\n# delete data variable, to make space\ndel data\n\n# binarize the labels\nlb = LabelBinarizer()\ny = lb.fit_transform(y)\n\ny.shape, y",
      "execution_count": 5,
      "outputs": [
        {
          "output_type": "execute_result",
          "execution_count": 5,
          "data": {
            "text/plain": "((42000, 10), array([[0, 1, 0, ..., 0, 0, 0],\n        [1, 0, 0, ..., 0, 0, 0],\n        [0, 1, 0, ..., 0, 0, 0],\n        ...,\n        [0, 0, 0, ..., 1, 0, 0],\n        [0, 0, 0, ..., 0, 0, 0],\n        [0, 0, 0, ..., 0, 0, 1]]))"
          },
          "metadata": {}
        }
      ]
    },
    {
      "metadata": {
        "colab": {
          "autoexec": {
            "startup": false,
            "wait_interval": 0
          },
          "height": 34,
          "base_uri": "https://localhost:8080/"
        },
        "colab_type": "code",
        "id": "Inz8De-ot6Wy",
        "executionInfo": {
          "timestamp": 1526444751091,
          "status": "ok",
          "user": {
            "displayName": "Vipin K",
            "userId": "118322682239424137342",
            "photoUrl": "//lh6.googleusercontent.com/-V17A1o7SS-8/AAAAAAAAAAI/AAAAAAAAAJA/TWg5riTgw9E/s50-c-k-no/photo.jpg"
          },
          "elapsed": 1156,
          "user_tz": -330
        },
        "_uuid": "8b472c7b26588f907cf6b0c90b5fcecbb6b1cf23",
        "_cell_guid": "7e25aa15-dfb5-4192-aae7-346d953e5e61",
        "outputId": "d31f9938-5de7-484a-f411-909591031880",
        "trusted": true
      },
      "cell_type": "code",
      "source": "X_train, X_test, y_train, y_test = train_test_split(X, y, test_size=0.1)\nX_train.shape, X_test.shape, y_train.shape, y_test.shape",
      "execution_count": 6,
      "outputs": [
        {
          "output_type": "execute_result",
          "execution_count": 6,
          "data": {
            "text/plain": "((37800, 28, 28, 1), (4200, 28, 28, 1), (37800, 10), (4200, 10))"
          },
          "metadata": {}
        }
      ]
    },
    {
      "metadata": {
        "colab": {
          "autoexec": {
            "startup": false,
            "wait_interval": 0
          }
        },
        "colab_type": "code",
        "id": "o_g-qJXsO5a5",
        "collapsed": true,
        "_uuid": "4021ee84b0f579b61d379562743228a7868b8e97",
        "_cell_guid": "4b25a288-466f-4e4a-83b0-984e795379e0",
        "trusted": true
      },
      "cell_type": "code",
      "source": "# function for defining model\ndef recogModel(input_shape):\n    # 28x28\n    X_input = Input(input_shape)\n\n    X = Conv2D(6, (5,5), strides=(1,1), kernel_regularizer=regularizers.l2(0.01), name='conv0')(X_input)\n    # batch normalization?\n    # can accelerate training\n    X = BatchNormalization(axis=3, name='bn0')(X)\n    X = Activation('relu')(X)\n\n    # 24x24x6\n    X = MaxPooling2D((2,2), strides=(2,2), name='maxPool0')(X)\n\n    # 12x12x6\n    X = Conv2D(16, (5,5), strides=(1,1), kernel_regularizer=regularizers.l2(0.01), name='conv1')(X)\n    X = BatchNormalization(axis=3, name='bn1')(X)\n    X = Activation('relu')(X)\n\n    # 8x8x16\n    X = MaxPooling2D((2,2), strides=(2,2), name='maxPool1')(X)\n\n    # 4x4x16\n    X = Flatten()(X)\n    # 256\n    X = Dense(120, activation='relu', name='fc2')(X)\n    # adding dropout to curb overfitting\n    #X = Dropout(0.2)(X)\n    # 120\n    X = Dense(84, activation='relu', name='fc3')(X)\n    #X = Dropout(0.2)(X)\n    # 84\n    X = Dense(10, activation='softmax', name='fc4')(X)\n\n    model = Model(inputs=X_input, outputs=X, name='model')\n\n    return model",
      "execution_count": 7,
      "outputs": []
    },
    {
      "metadata": {
        "_uuid": "83f29e1bd3d2c9a25527456498a6626fc8975285",
        "collapsed": true,
        "_cell_guid": "c43766c4-1f5b-4c1c-bd8e-2ac8397a2736",
        "trusted": true
      },
      "cell_type": "code",
      "source": "# function for defining different model\ndef newModel(input_shape):\n    # 28x28\n    X_input = Input(input_shape)\n\n    X = Conv2D(filters = 32, kernel_size = (5,5),padding = 'Same', activation ='relu')(X_input)\n    X = Conv2D(filters = 32, kernel_size = (5,5),padding = 'Same', activation ='relu')(X)\n    X = MaxPooling2D(pool_size=(2,2))(X)\n    X = Dropout(0.25)(X)\n\n    X = Conv2D(filters = 64, kernel_size = (3,3),padding = 'Same', activation ='relu')(X)\n    X = Conv2D(filters = 64, kernel_size = (3,3),padding = 'Same', activation ='relu')(X)\n    X = MaxPooling2D(pool_size=(2,2), strides=(2,2))(X)\n    X = Dropout(0.25)(X)\n\n    X = Flatten()(X)\n    X = Dense(256, activation = \"relu\")(X)\n    X = Dropout(0.5)(X)\n    X = Dense(10, activation = \"softmax\")(X)\n\n    model = Model(inputs=X_input, outputs=X, name='newModel')\n\n    return model",
      "execution_count": 8,
      "outputs": []
    },
    {
      "metadata": {
        "_uuid": "d689723f1772656a54a7fce936ca3d93382b2846",
        "collapsed": true,
        "_cell_guid": "22b6f89c-5a83-4ce3-99f2-295ef2b061cd",
        "trusted": true
      },
      "cell_type": "code",
      "source": "# function for defining a bigger model\ndef bigModel(input_shape):\n    # 28x28\n    X_input = Input(input_shape)\n\n    X = Conv2D(filters = 32, kernel_size = (5,5),padding = 'Same', activation ='relu')(X_input)\n    X = Conv2D(filters = 32, kernel_size = (5,5),padding = 'Same', activation ='relu')(X)\n    X = MaxPooling2D(pool_size=(2,2))(X)\n    X = Dropout(0.25)(X)\n\n    X = Conv2D(filters = 64, kernel_size = (3,3),padding = 'Same', activation ='relu')(X)\n    X = Conv2D(filters = 64, kernel_size = (3,3),padding = 'Same', activation ='relu')(X)\n    X = MaxPooling2D(pool_size=(2,2), strides=(2,2))(X)\n    X = Dropout(0.25)(X)\n    \n    X = Conv2D(filters = 128, kernel_size = (3,3),padding = 'Same', activation ='relu')(X)\n    X = Conv2D(filters = 128, kernel_size = (3,3),padding = 'Same', activation ='relu')(X)\n    X = MaxPooling2D(pool_size=(2,2), strides=(2,2))(X)\n    X = Dropout(0.25)(X)\n\n    X = Flatten()(X)\n    X = Dense(512, activation = \"relu\")(X)\n    X = Dropout(0.5)(X)\n    X = Dense(128, activation = \"relu\")(X)\n    X = Dropout(0.5)(X)\n    X = Dense(10, activation = \"softmax\")(X)\n\n    model = Model(inputs=X_input, outputs=X, name='newModel')\n\n    return model",
      "execution_count": 9,
      "outputs": []
    },
    {
      "metadata": {
        "_uuid": "0290bb9568b6b218ca34a91b8c56c5f65a1b8aa4",
        "collapsed": true,
        "_cell_guid": "32dc2eb8-5a2c-41f9-bdc4-b101ed727c1b",
        "trusted": true
      },
      "cell_type": "code",
      "source": "# callback for setting learning rate, after stagnation in val_loss\n# if no change in val_loss for 3 epochs it will reduce the learning rate to half\nlearning_rate_reduction = ReduceLROnPlateau(monitor='val_loss', patience=3, verbose=1, factor=0.5, min_lr=0.0)",
      "execution_count": 10,
      "outputs": []
    },
    {
      "metadata": {
        "colab": {
          "autoexec": {
            "startup": false,
            "wait_interval": 0
          },
          "height": 34,
          "base_uri": "https://localhost:8080/"
        },
        "colab_type": "code",
        "id": "6enTWvs3wCty",
        "executionInfo": {
          "timestamp": 1526444764561,
          "status": "ok",
          "user": {
            "displayName": "Vipin K",
            "userId": "118322682239424137342",
            "photoUrl": "//lh6.googleusercontent.com/-V17A1o7SS-8/AAAAAAAAAAI/AAAAAAAAAJA/TWg5riTgw9E/s50-c-k-no/photo.jpg"
          },
          "elapsed": 801,
          "user_tz": -330
        },
        "_uuid": "1613f0b9aeb972736155cc0167751d96395b2a7b",
        "_cell_guid": "9f95d48e-c249-4851-b5ed-9eff63f1dc6b",
        "outputId": "344a199e-9375-464e-b818-fa2871016250",
        "trusted": true
      },
      "cell_type": "code",
      "source": "X_train.shape[1:]",
      "execution_count": 11,
      "outputs": [
        {
          "output_type": "execute_result",
          "execution_count": 11,
          "data": {
            "text/plain": "(28, 28, 1)"
          },
          "metadata": {}
        }
      ]
    },
    {
      "metadata": {
        "colab": {
          "autoexec": {
            "startup": false,
            "wait_interval": 0
          }
        },
        "colab_type": "code",
        "id": "Ok-TrxygeC7b",
        "collapsed": true,
        "_uuid": "d5d4116cc71e0a10cf3de99858ef9be2cbc6d686",
        "_cell_guid": "e1fdb5fc-0a95-402a-ae83-585c000357fe",
        "trusted": true
      },
      "cell_type": "code",
      "source": "# Create model by calling above function\n#model = recogModel(X_train.shape[1:])\nmodel = newModel(X_train.shape[1:])",
      "execution_count": 12,
      "outputs": []
    },
    {
      "metadata": {
        "colab": {
          "autoexec": {
            "startup": false,
            "wait_interval": 0
          }
        },
        "colab_type": "code",
        "id": "s7C337zHeFg3",
        "collapsed": true,
        "_uuid": "4aa8084f13dc24a25f0ea7a0b56dd411194406cc",
        "_cell_guid": "c3dc2063-3c02-412b-af96-4d4593a9d2ec",
        "trusted": true
      },
      "cell_type": "code",
      "source": "# Compile the model\nmodel.compile(optimizer='Adam', loss='mean_squared_error', metrics=['accuracy'])",
      "execution_count": 13,
      "outputs": []
    },
    {
      "metadata": {
        "colab": {
          "autoexec": {
            "startup": false,
            "wait_interval": 0
          },
          "height": 1414,
          "base_uri": "https://localhost:8080/"
        },
        "colab_type": "code",
        "id": "tYfd4EjkeSWk",
        "scrolled": false,
        "executionInfo": {
          "timestamp": 1526445063527,
          "status": "ok",
          "user": {
            "displayName": "Vipin K",
            "userId": "118322682239424137342",
            "photoUrl": "//lh6.googleusercontent.com/-V17A1o7SS-8/AAAAAAAAAAI/AAAAAAAAAJA/TWg5riTgw9E/s50-c-k-no/photo.jpg"
          },
          "elapsed": 294388,
          "user_tz": -330
        },
        "collapsed": true,
        "_uuid": "3b24cce7efe720fd4166cedeed703edbee63fdfd",
        "outputId": "6fcb820e-e2e7-46f5-ef40-7bad9cce3c94",
        "_cell_guid": "b35bc3c6-3969-40e3-a431-b152b6314d4a",
        "trusted": true
      },
      "cell_type": "code",
      "source": "# Train the model on train data\n#model.fit(x=X_train, y=y_train, epochs=1, batch_size=50)\n#model.save('recogModel.h5')\n# using data augmentation instead",
      "execution_count": 14,
      "outputs": []
    },
    {
      "metadata": {
        "_uuid": "ef1f06f2abacd2f888799cec0e5468a50cc04619",
        "_cell_guid": "1999835e-1af8-4655-a9f6-a42f023195e4",
        "trusted": true
      },
      "cell_type": "code",
      "source": "# data augmentation to prevent overfitting\ndata_aug = ImageDataGenerator(rotation_range=10, zoom_range = 0.1, width_shift_range=0.1, height_shift_range=0.1)\n\n# Fit the model\nmodel_history = model.fit_generator(data_aug.flow(X_train, y_train, batch_size=50), epochs = 5, validation_data = (X_test,y_test),\n                              steps_per_epoch=X_train.shape[0] / 30, callbacks=[learning_rate_reduction])",
      "execution_count": 15,
      "outputs": [
        {
          "output_type": "stream",
          "text": "Epoch 1/5\n1260/1260 [==============================] - 33s 26ms/step - loss: 0.0138 - acc: 0.9036 - val_loss: 0.0027 - val_acc: 0.9829\nEpoch 2/5\n1260/1260 [==============================] - 27s 21ms/step - loss: 0.0052 - acc: 0.9662 - val_loss: 0.0023 - val_acc: 0.9867\nEpoch 3/5\n1260/1260 [==============================] - 26s 21ms/step - loss: 0.0041 - acc: 0.9738 - val_loss: 0.0017 - val_acc: 0.9890\nEpoch 4/5\n1260/1260 [==============================] - 27s 21ms/step - loss: 0.0036 - acc: 0.9773 - val_loss: 0.0017 - val_acc: 0.9888\nEpoch 5/5\n1260/1260 [==============================] - 27s 21ms/step - loss: 0.0032 - acc: 0.9797 - val_loss: 0.0020 - val_acc: 0.9876\n",
          "name": "stdout"
        }
      ]
    },
    {
      "metadata": {
        "colab": {
          "autoexec": {
            "startup": false,
            "wait_interval": 0
          },
          "height": 85,
          "base_uri": "https://localhost:8080/"
        },
        "colab_type": "code",
        "id": "45Cg_q4QemPr",
        "executionInfo": {
          "timestamp": 1526445125231,
          "status": "ok",
          "user": {
            "displayName": "Vipin K",
            "userId": "118322682239424137342",
            "photoUrl": "//lh6.googleusercontent.com/-V17A1o7SS-8/AAAAAAAAAAI/AAAAAAAAAJA/TWg5riTgw9E/s50-c-k-no/photo.jpg"
          },
          "elapsed": 1552,
          "user_tz": -330
        },
        "_uuid": "2e1b0f617835d56f03d88eadc2158df953a8a781",
        "outputId": "fc5fad28-92de-42e3-b549-4cf51f0f0694",
        "_cell_guid": "2176601b-3836-4e2d-a02b-7853728e8277",
        "trusted": true
      },
      "cell_type": "code",
      "source": "# model = keras.models.load_model('my_model.h5')\n# Test the model on test data\npreds = model.evaluate(X_test, y_test)\n\nprint()\nprint (\"Loss = \" + str(preds[0]))\nprint (\"Test Accuracy = \" + str(preds[1]))",
      "execution_count": 16,
      "outputs": [
        {
          "output_type": "stream",
          "text": "4200/4200 [==============================] - 1s 122us/step\n\nLoss = 0.0020004416583815983\nTest Accuracy = 0.9876190476190476\n",
          "name": "stdout"
        }
      ]
    },
    {
      "metadata": {
        "_uuid": "3beed84a584460fe4e77e1eccd364b6fd834b211",
        "_cell_guid": "6be7c07c-9eb4-40a2-ad77-a07027a0f0ff",
        "trusted": true
      },
      "cell_type": "code",
      "source": "# Plot the loss and accuracy curves for training and validation \nfig, ax = plt.subplots(2,1)\nax[0].plot(model_history.history['loss'], color='b', label=\"Training loss\")\nax[0].plot(model_history.history['val_loss'], color='r', label=\"validation loss\")\nax[0].legend()\n\nax[1].plot(model_history.history['acc'], color='b', label=\"Training accuracy\")\nax[1].plot(model_history.history['val_acc'], color='r',label=\"Validation accuracy\")\nax[1].legend()",
      "execution_count": 17,
      "outputs": [
        {
          "output_type": "execute_result",
          "execution_count": 17,
          "data": {
            "text/plain": "<matplotlib.legend.Legend at 0x7f83e4cf7b00>"
          },
          "metadata": {}
        },
        {
          "output_type": "display_data",
          "data": {
            "text/plain": "<matplotlib.figure.Figure at 0x7f83e4d70128>",
            "image/png": "[encoded data removed]"
          },
          "metadata": {}
        }
      ]
    },
    {
      "metadata": {
        "_uuid": "29a189bfa0039bc4ab074a37832a329db988447b",
        "_cell_guid": "a403847b-3083-4490-81e8-0f2e11c1c9a9"
      },
      "cell_type": "markdown",
      "source": "## predict for the test.csv"
    },
    {
      "metadata": {
        "colab": {
          "autoexec": {
            "startup": false,
            "wait_interval": 0
          }
        },
        "colab_type": "code",
        "id": "A9uBnOkdOAnQ",
        "_uuid": "9355b7897abf9ac6afddd151d3d6945a6214841b",
        "_cell_guid": "7fe04651-5311-4ad1-a4b7-7b03ecbca06d",
        "trusted": true
      },
      "cell_type": "code",
      "source": "test = np.genfromtxt('../input/test.csv', delimiter=\",\")\ntest.shape",
      "execution_count": 18,
      "outputs": [
        {
          "output_type": "execute_result",
          "execution_count": 18,
          "data": {
            "text/plain": "(28001, 784)"
          },
          "metadata": {}
        }
      ]
    },
    {
      "metadata": {
        "_uuid": "bbea9d0454e7a879f1fc91e3493dd1f1aef017a9",
        "_cell_guid": "cea6505c-dbc2-4aff-babd-afd9288e79bc",
        "trusted": true
      },
      "cell_type": "code",
      "source": "# scale pixels values, by /255\ntestX = test[1:, :].reshape((-1, 28, 28, 1))\ntestX /= 255\n\n# delete test variable, to make space\ndel test\n\ntestX.shape",
      "execution_count": 19,
      "outputs": [
        {
          "output_type": "execute_result",
          "execution_count": 19,
          "data": {
            "text/plain": "(28000, 28, 28, 1)"
          },
          "metadata": {}
        }
      ]
    },
    {
      "metadata": {
        "_uuid": "331679e743a2c3dfa37b9163c0d4b725c7409269",
        "_cell_guid": "4136b553-895a-4389-b0f9-2fa7f51f0786",
        "trusted": true
      },
      "cell_type": "code",
      "source": "# predict the values\npreds = model.predict(testX)\npreds.shape, preds",
      "execution_count": 20,
      "outputs": [
        {
          "output_type": "execute_result",
          "execution_count": 20,
          "data": {
            "text/plain": "((28000, 10),\n array([[2.5271115e-25, 3.0151165e-21, 1.0000000e+00, ..., 8.1372609e-17,\n         2.6607422e-19, 3.7984349e-26],\n        [1.0000000e+00, 1.0685857e-18, 1.3035807e-13, ..., 2.4648160e-18,\n         8.8053219e-18, 2.5590383e-13],\n        [3.3011430e-12, 3.1073299e-12, 1.3533401e-12, ..., 5.0758125e-08,\n         1.3599204e-08, 1.0000000e+00],\n        ...,\n        [1.9325299e-20, 3.2948250e-21, 2.3121967e-18, ..., 1.3648633e-15,\n         3.6439904e-15, 1.3538170e-13],\n        [4.5182161e-10, 2.6713527e-11, 1.2638037e-11, ..., 2.0185000e-05,\n         2.4675564e-10, 9.9997985e-01],\n        [6.4201575e-32, 1.4662382e-26, 1.0000000e+00, ..., 5.2286049e-22,\n         2.1151449e-21, 1.5683537e-32]], dtype=float32))"
          },
          "metadata": {}
        }
      ]
    },
    {
      "metadata": {
        "_uuid": "50067718f2e6dc3655ac8912923544e3abf24f48",
        "_cell_guid": "c7d5a42f-fea3-4530-b9c0-085983227d46",
        "trusted": true
      },
      "cell_type": "code",
      "source": "# turn 10 nos. to single index, predicted digit\npredictions = np.argmax(preds, axis=1)\npredictions.shape, predictions",
      "execution_count": 21,
      "outputs": [
        {
          "output_type": "execute_result",
          "execution_count": 21,
          "data": {
            "text/plain": "((28000,), array([2, 0, 9, ..., 3, 9, 2]))"
          },
          "metadata": {}
        }
      ]
    },
    {
      "metadata": {
        "_uuid": "b1d5c4e1015f72dc59c7c117fc2c3093b2f205d7",
        "collapsed": true,
        "_cell_guid": "8616f125-2cf8-4e61-923a-590548f44b8c",
        "trusted": true
      },
      "cell_type": "code",
      "source": "# save the predictions in a csv file\nimport pandas as pd \n\n# numpy array to panda's DataFrame\ndf = pd.DataFrame(predictions, columns=['Label'])\n\n# add index to the dataframe\ndf.index = np.arange(1, len(df)+1)\n\n# save it to csv file\ndf.to_csv(\"submission.csv\", index_label='ImageId')",
      "execution_count": 22,
      "outputs": []
    }
  ],
  "metadata": {
    "colab": {
      "views": {},
      "version": "0.3.2",
      "provenance": [],
      "collapsed_sections": [],
      "name": "handwrittenDigits.ipynb",
      "default_view": {}
    },
    "kernelspec": {
      "display_name": "Python 3",
      "language": "python",
      "name": "python3"
    },
    "accelerator": "GPU",
    "language_info": {
      "name": "python",
      "version": "3.6.4",
      "mimetype": "text/x-python",
      "codemirror_mode": {
        "name": "ipython",
        "version": 3
      },
      "pygments_lexer": "ipython3",
      "nbconvert_exporter": "python",
      "file_extension": ".py"
    }
  },
  "nbformat": 4,
  "nbformat_minor": 1
}